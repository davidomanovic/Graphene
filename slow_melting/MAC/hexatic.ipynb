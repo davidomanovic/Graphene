{
 "cells": [
  {
   "cell_type": "code",
   "execution_count": 3,
   "id": "54498d9c",
   "metadata": {},
   "outputs": [
    {
     "name": "stdout",
     "output_type": "stream",
     "text": [
      "1.0.0\n"
     ]
    }
   ],
   "source": [
    "import boo\n",
    "print(boo.__version__)\n"
   ]
  },
  {
   "cell_type": "code",
   "execution_count": 17,
   "id": "061d9188",
   "metadata": {},
   "outputs": [
    {
     "name": "stdout",
     "output_type": "stream",
     "text": [
      "Number of bonds: 1811\n"
     ]
    },
    {
     "name": "stderr",
     "output_type": "stream",
     "text": [
      "c:\\Users\\David\\AppData\\Local\\Programs\\Python\\Python312\\Lib\\site-packages\\MDAnalysis\\coordinates\\LAMMPS.py:751: UserWarning: Reader has no dt information, set to 1.0 ps\n",
      "  ts.data[\"time\"] = step_num * ts.dt\n",
      "c:\\Users\\David\\AppData\\Local\\Programs\\Python\\Python312\\Lib\\site-packages\\numba\\np\\ufunc\\dufunc.py:288: RuntimeWarning: invalid value encountered in periodify\n",
      "  return super().__call__(*args, **kws)\n"
     ]
    },
    {
     "ename": "AssertionError",
     "evalue": "",
     "output_type": "error",
     "traceback": [
      "\u001b[1;31m---------------------------------------------------------------------------\u001b[0m",
      "\u001b[1;31mAssertionError\u001b[0m                            Traceback (most recent call last)",
      "Cell \u001b[1;32mIn[17], line 35\u001b[0m\n\u001b[0;32m     33\u001b[0m Nbins \u001b[38;5;241m=\u001b[39m \u001b[38;5;241m50\u001b[39m      \u001b[38;5;66;03m# number of bins\u001b[39;00m\n\u001b[0;32m     34\u001b[0m is_center \u001b[38;5;241m=\u001b[39m np\u001b[38;5;241m.\u001b[39mones(\u001b[38;5;28mlen\u001b[39m(pos), dtype\u001b[38;5;241m=\u001b[39m\u001b[38;5;28mbool\u001b[39m)\n\u001b[1;32m---> 35\u001b[0m num, den, r_bins \u001b[38;5;241m=\u001b[39m \u001b[43mboo\u001b[49m\u001b[38;5;241;43m.\u001b[39;49m\u001b[43mgG_l\u001b[49m\u001b[43m(\u001b[49m\u001b[43mpos\u001b[49m\u001b[43m,\u001b[49m\u001b[43m \u001b[49m\u001b[43mqlms\u001b[49m\u001b[43m,\u001b[49m\u001b[43m \u001b[49m\u001b[43mNbins\u001b[49m\u001b[38;5;241;43m=\u001b[39;49m\u001b[38;5;241;43m50\u001b[39;49m\u001b[43m,\u001b[49m\u001b[43mis_center\u001b[49m\u001b[38;5;241;43m=\u001b[39;49m\u001b[43mis_center\u001b[49m\u001b[43m,\u001b[49m\u001b[43m \u001b[49m\u001b[43mmaxdist\u001b[49m\u001b[38;5;241;43m=\u001b[39;49m\u001b[43mmaxdist\u001b[49m\u001b[43m)\u001b[49m\n\u001b[0;32m     37\u001b[0m g6 \u001b[38;5;241m=\u001b[39m np\u001b[38;5;241m.\u001b[39mwhere(den \u001b[38;5;241m>\u001b[39m \u001b[38;5;241m0\u001b[39m, num \u001b[38;5;241m/\u001b[39m den, \u001b[38;5;241m0\u001b[39m)\n\u001b[0;32m     39\u001b[0m plt\u001b[38;5;241m.\u001b[39mfigure(figsize\u001b[38;5;241m=\u001b[39m(\u001b[38;5;241m12\u001b[39m, \u001b[38;5;241m6\u001b[39m))\n",
      "File \u001b[1;32mc:\\Users\\David\\AppData\\Local\\Programs\\Python\\Python312\\Lib\\site-packages\\boo\\boo.py:493\u001b[0m, in \u001b[0;36mgG_l\u001b[1;34m(pos, qlms, is_center, Nbins, maxdist)\u001b[0m\n\u001b[0;32m    460\u001b[0m \u001b[38;5;250m    \u001b[39m\u001b[38;5;124;03m\"\"\"\u001b[39;00m\n\u001b[0;32m    461\u001b[0m \u001b[38;5;124;03mSpatial correlation of the qlms (non normalized).\u001b[39;00m\n\u001b[0;32m    462\u001b[0m \n\u001b[1;32m   (...)\u001b[0m\n\u001b[0;32m    490\u001b[0m \u001b[38;5;124;03m    The number of pairs for each distance\u001b[39;00m\n\u001b[0;32m    491\u001b[0m \u001b[38;5;124;03m\"\"\"\u001b[39;00m\n\u001b[0;32m    492\u001b[0m     \u001b[38;5;28;01mfor\u001b[39;00m qlm \u001b[38;5;129;01min\u001b[39;00m qlms:\n\u001b[1;32m--> 493\u001b[0m         \u001b[38;5;28;01massert\u001b[39;00m \u001b[38;5;28mlen\u001b[39m(pos) \u001b[38;5;241m==\u001b[39m \u001b[38;5;28mlen\u001b[39m(qlm)\n\u001b[0;32m    494\u001b[0m     \u001b[38;5;28;01massert\u001b[39;00m \u001b[38;5;28mlen\u001b[39m(is_center) \u001b[38;5;241m==\u001b[39m \u001b[38;5;28mlen\u001b[39m(pos)\n\u001b[0;32m    495\u001b[0m     \u001b[38;5;66;03m#conversion factor between indices and bins\u001b[39;00m\n",
      "\u001b[1;31mAssertionError\u001b[0m: "
     ]
    }
   ],
   "source": [
    "import numpy as np\n",
    "import MDAnalysis as mda\n",
    "from scipy.spatial import Delaunay\n",
    "import boo  # note: the module is imported as \"boo\"\n",
    "import matplotlib.pyplot as plt\n",
    "\n",
    "u = mda.Universe(\"mac40x40.data\", \"mac.dump\", format=\"LAMMPSDUMP\", atom_style='id type x y z')\n",
    "\n",
    "# Select a frame – here we use the first frame\n",
    "u.trajectory[0]\n",
    "pos2d = u.atoms.positions[:, :2]  # shape (N, 2)\n",
    "pos = np.hstack((pos2d, np.zeros((pos2d.shape[0], 1))))\n",
    "\n",
    "tri = Delaunay(pos2d)\n",
    "bonds_set = set()\n",
    "for simplex in tri.simplices:\n",
    "    # For each triangle, add all unique bonds (each bond only once)\n",
    "    for i in range(3):\n",
    "        for j in range(i+1, 3):\n",
    "            # Sort indices so that (i, j) and (j, i) are not both added\n",
    "            bond = tuple(sorted((simplex[i], simplex[j])))\n",
    "            bonds_set.add(bond)\n",
    "# Convert to a (M, 2) array\n",
    "bonds = np.array(list(bonds_set), dtype=int)\n",
    "\n",
    "print(\"Number of bonds:\", len(bonds))\n",
    "\n",
    "box = np.array([40.0, 40.0, 0.0])\n",
    "\n",
    "qlms = boo.bonds2qlm(pos, bonds, l=6, periods=box)\n",
    "\n",
    "maxdist = 20.0  # maximum distance to consider\n",
    "Nbins = 50      # number of bins\n",
    "is_center = np.ones(len(pos), dtype=bool)\n",
    "num, den, r_bins = boo.gG_l(pos, qlms, Nbins=50,is_center=is_center, maxdist=maxdist)\n",
    "\n",
    "g6 = np.where(den > 0, num / den, 0)\n",
    "\n",
    "plt.figure(figsize=(12, 6))\n",
    "plt.plot(r_bins, g6, 'o-', label=r'$g_6(r)$')\n",
    "plt.xlabel(\"Distance r (Å)\")\n",
    "plt.ylabel(r\"$g_6(r)$\")\n",
    "plt.title(\"Orientational Correlation Function (Hexatic Order)\")\n",
    "plt.legend()\n",
    "plt.show()"
   ]
  }
 ],
 "metadata": {
  "kernelspec": {
   "display_name": "Python 3",
   "language": "python",
   "name": "python3"
  },
  "language_info": {
   "codemirror_mode": {
    "name": "ipython",
    "version": 3
   },
   "file_extension": ".py",
   "mimetype": "text/x-python",
   "name": "python",
   "nbconvert_exporter": "python",
   "pygments_lexer": "ipython3",
   "version": "3.12.7"
  }
 },
 "nbformat": 4,
 "nbformat_minor": 5
}
