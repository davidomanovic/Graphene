{
 "cells": [
  {
   "cell_type": "code",
   "execution_count": null,
   "id": "fec9166d",
   "metadata": {},
   "outputs": [],
   "source": [
    "import numpy as np\n",
    "import matplotlib.pyplot as plt\n",
    "\n",
    "\n",
    "data = np.loadtxt(\"log.lammps\",\n",
    "                  comments=[\"#\", \"Loop\"], \n",
    "                  usecols=(0,1,2),\n",
    "                  skiprows=12)\n",
    "\n",
    "step, lx, pxx = data.T\n",
    "\n",
    "lx0   = lx[0]\n",
    "strain = (lx - lx0) / lx0\n",
    "\n",
    "stress_3D = pxx * 1e-4        \n",
    "\n",
    "\n",
    "t = 0.335e-9                 \n",
    "stress_2D = stress_3D * (1e9) * t   \n",
    "\n",
    "mask = strain < 0.01\n",
    "coeffs = np.polyfit(strain[mask], stress_2D[mask], 1)\n",
    "E2D   = coeffs[0]             # in N/m\n",
    "\n",
    "print(f\"2D stiffness E2D = {E2D:.1f} N/m\")\n",
    "print(f\"Equivalent 3D modulus = {E2D/t/1e9:.2f} TPa (using t={t*1e9:.1f} Å)\")\n",
    "\n",
    "plt.figure()\n",
    "plt.plot(strain, stress_2D, 'k-', label=\"MD data\")\n",
    "plt.plot(strain[mask], np.polyval(coeffs,strain[mask]),\n",
    "         'r--', label=f\"fit slope = {E2D:.0f} N/m\")\n",
    "plt.xlabel(\"Strain\")\n",
    "plt.ylabel(\"Stress (N/m)\")\n",
    "plt.legend()\n",
    "plt.grid(True)\n",
    "plt.tight_layout()\n",
    "plt.show()\n"
   ]
  }
 ],
 "metadata": {
  "language_info": {
   "name": "python"
  }
 },
 "nbformat": 4,
 "nbformat_minor": 5
}
