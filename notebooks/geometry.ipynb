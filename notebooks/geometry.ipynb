{
 "cells": [
  {
   "cell_type": "code",
   "execution_count": null,
   "id": "98864787",
   "metadata": {},
   "outputs": [],
   "source": [
    "import numpy as np\n",
    "import matplotlib.pyplot as plt\n",
    "from ase.build import graphene\n",
    "from ase.neighborlist import neighbor_list\n",
    "from ase.optimize import BFGS\n",
    "from ase.calculators.emt import EMT          \n",
    "from ase.io import write\n",
    "\n",
    "\n",
    "def rotation_matrix_z(angle):\n",
    "    \"\"\"Return a 3×3 in-plane rotation matrix about the +z axis.\"\"\"\n",
    "    c, s = np.cos(angle), np.sin(angle)\n",
    "    return np.array([[c, -s, 0.0],\n",
    "                     [s,  c, 0.0],\n",
    "                     [0.0, 0.0, 1.0]])\n",
    "\n",
    "\n",
    "def insert_stone_wales(atoms, idx_i, idx_j, angle=np.pi / 2):\n",
    "    \"\"\"\n",
    "    Rotate the C–C bond (idx_i – idx_j) by +angle (default = 90°)\n",
    "    to obtain a Stone–Wales defect.  Connectivity is implicit; only\n",
    "    the two atoms are rotated, subsequent relaxation fixes neighbours.\n",
    "    \"\"\"\n",
    "    pos = atoms.get_positions()\n",
    "    p_i, p_j = pos[idx_i], pos[idx_j]\n",
    "    centre = 0.5 * (p_i + p_j)\n",
    "\n",
    "    # 1. put centre at origin\n",
    "    pos -= centre\n",
    "\n",
    "    # 2. rotate only the two atoms\n",
    "    R = rotation_matrix_z(angle)\n",
    "    pos[idx_i] = R @ pos[idx_i]\n",
    "    pos[idx_j] = R @ pos[idx_j]\n",
    "\n",
    "    # 3. restore absolute coordinates\n",
    "    atoms.set_positions(pos + centre)\n",
    "    return atoms\n",
    "\n",
    "def random_bond(atoms, cutoff=1.6):\n",
    "    \"\"\"Pick a random nearest-neighbour C–C bond index pair (i, j).\"\"\"\n",
    "    i_list, j_list = neighbor_list('ij', atoms, cutoff)   # all NN pairs\n",
    "    choice = np.random.randint(len(i_list))\n",
    "    return int(i_list[choice]), int(j_list[choice])"
   ]
  },
  {
   "cell_type": "code",
   "execution_count": 253,
   "id": "0edff5a8",
   "metadata": {},
   "outputs": [],
   "source": [
    "# -----------------------------------------------------------------\n",
    "# 0. Build a graphene sheet (10×10 unit cells, add 12 Å vacuum in z)\n",
    "atoms = graphene(formula='C2', size=(10, 10, 1))\n",
    "atoms.set_cell([atoms.cell[0], atoms.cell[1], [0, 0, 0.1]])\n",
    "atoms.center(axis=2)\n",
    "\n",
    "np.random.seed(42)\n",
    "for _ in range(1):\n",
    "    for _ in range(5):\n",
    "        # (a) choose a bond whose midpoint is at least 5 % away from edges\n",
    "        while True:\n",
    "            i, j = random_bond(atoms)                    # as before\n",
    "            mid_frac = 0.5 * (atoms.get_scaled_positions()[i] +\n",
    "                            atoms.get_scaled_positions()[j])\n",
    "            if (mid_frac[0] % 1.0 > 0.05 and mid_frac[0] % 1.0 < 0.95 and\n",
    "                mid_frac[1] % 1.0 > 0.05 and mid_frac[1] % 1.0 < 0.95):\n",
    "                break\n",
    "\n",
    "        atoms = insert_stone_wales(atoms, i, j)\n",
    "\n",
    "        # (b) wrap positions so nothing stays outside\n",
    "        atoms.wrap(pbc=[True, True, False])   # keep 2-D periodicity\n",
    "\n",
    "        # (b) wrap positions so nothing stays outside\n",
    "        atoms.wrap(pbc=[True, True, False])   # keep 2-D periodicity"
   ]
  },
  {
   "cell_type": "code",
   "execution_count": 254,
   "id": "1c0165a3",
   "metadata": {},
   "outputs": [
    {
     "data": {
      "image/png": "[encoded data removed]",
      "text/plain": [
       "<Figure size 600x600 with 1 Axes>"
      ]
     },
     "metadata": {},
     "output_type": "display_data"
    }
   ],
   "source": [
    "# Extract x and y positions (assuming 2D graphene in xy-plane)\n",
    "positions = atoms.get_positions()\n",
    "x = positions[:, 0]\n",
    "y = positions[:, 1]\n",
    "\n",
    "# Scatter plot\n",
    "plt.figure(figsize=(6, 6))\n",
    "plt.scatter(x, y, s=10, color='black', edgecolors='white')\n",
    "plt.axis('equal')\n",
    "plt.title('Graphene lattice')\n",
    "plt.xlabel('x (Å)')\n",
    "plt.ylabel('y (Å)')\n",
    "plt.show()"
   ]
  },
  {
   "cell_type": "code",
   "execution_count": null,
   "id": "138926cf",
   "metadata": {},
   "outputs": [],
   "source": [
    "import numpy as np\n",
    "from ase import Atoms\n",
    "\n",
    "def write_lammps_data_from_ase(filename, atoms: Atoms, a: float, mass: float=12.0107):\n",
    "    # Positions and cell\n",
    "    coords = atoms.get_positions()   # (N,3)\n",
    "    cell   = atoms.get_cell()        # 3×3 matrix\n",
    "    N      = len(atoms)\n",
    "\n",
    "    # Extract box extents in x and y\n",
    "    xlo, xhi = 0.0, cell[0, 0]\n",
    "    ylo, yhi = 0.0, cell[1, 1]\n",
    "\n",
    "    with open(filename, 'w') as f:\n",
    "        f.write(f\"Graphene sheet a={a:g}\\n\")\n",
    "        f.write(f\"{N:d} atoms\\n\\n\")\n",
    "        f.write(\"1 atom types\\n\\n\")\n",
    "\n",
    "        f.write(f\"{xlo:g} {xhi:g} xlo xhi\\n\")\n",
    "        f.write(f\"{ylo:g} {yhi:g} ylo yhi\\n\")\n",
    "        f.write(f\"-10 10 zlo zhi\\n\\n\")\n",
    "\n",
    "        f.write(\"Masses\\n\\n\")\n",
    "        f.write(f\"1 {mass:g}\\n\\n\")\n",
    "\n",
    "        f.write(\"Atoms\\n\\n\")\n",
    "        for idx, (x, y, z) in enumerate(coords, start=1):\n",
    "            f.write(f\"{idx:d} 1 {x:g} {y:g} {z:g}\\n\")\n",
    "\n",
    "    print(f\"Wrote {N} atoms to {filename!r}\")\n",
    "\n"
   ]
  },
  {
   "cell_type": "code",
   "execution_count": 255,
   "id": "1ba1e9ea",
   "metadata": {},
   "outputs": [
    {
     "name": "stdout",
     "output_type": "stream",
     "text": [
      "Wrote 200 atoms to 'graphene.data'\n"
     ]
    }
   ],
   "source": [
    "write_lammps_data_from_ase('graphene.data', atoms, a=1.42)"
   ]
  }
 ],
 "metadata": {
  "kernelspec": {
   "display_name": "Python 3",
   "language": "python",
   "name": "python3"
  },
  "language_info": {
   "codemirror_mode": {
    "name": "ipython",
    "version": 3
   },
   "file_extension": ".py",
   "mimetype": "text/x-python",
   "name": "python",
   "nbconvert_exporter": "python",
   "pygments_lexer": "ipython3",
   "version": "3.12.7"
  }
 },
 "nbformat": 4,
 "nbformat_minor": 5
}
